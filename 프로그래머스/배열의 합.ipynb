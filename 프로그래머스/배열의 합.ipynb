{
 "cells": [
  {
   "cell_type": "code",
   "execution_count": 2,
   "metadata": {},
   "outputs": [],
   "source": [
    "numbers=[100,101,102,103,104]\r\n",
    "start=[1,2]\r\n",
    "finish=[2,4]"
   ]
  },
  {
   "cell_type": "markdown",
   "metadata": {},
   "source": [
    " 배열의 구간합을 구하는 문제입니다. \r\n",
    " 예를 들자면 \r\n",
    " `numbers=[100,101,102,103,104]\r\n",
    "start=[1,2]\r\n",
    "finish=[2,4]`\r\n",
    "라면\r\n",
    "start[0]~ finish[0]구간의 모든 수의 합을 구하고\r\n",
    "start[1]~finish[1] 구간의 모든 수의 합을 구하여서 2차원배열로 출력하시오."
   ]
  },
  {
   "cell_type": "code",
   "execution_count": 5,
   "metadata": {},
   "outputs": [],
   "source": [
    "def solution(numbers,start,finish):\r\n",
    "    answer=[]\r\n",
    "    start_sum=0\r\n",
    "    fin_sum=0\r\n",
    "    for i in range(start[0],finish[0]+1):\r\n",
    "        start_sum+= numbers[i]\r\n",
    "\r\n",
    "    for j in range(start[1],finish[1]+1):\r\n",
    "        fin_sum+= numbers[j]\r\n",
    "\r\n",
    "    answer.append(start_sum)\r\n",
    "    answer.append(fin_sum)\r\n",
    "    return answer"
   ]
  },
  {
   "cell_type": "code",
   "execution_count": 6,
   "metadata": {},
   "outputs": [
    {
     "name": "stdout",
     "output_type": "stream",
     "text": [
      "[203, 309]\n"
     ]
    }
   ],
   "source": [
    "print(solution(numbers,start,finish))"
   ]
  },
  {
   "cell_type": "code",
   "execution_count": null,
   "metadata": {},
   "outputs": [],
   "source": []
  }
 ],
 "metadata": {
  "interpreter": {
   "hash": "b3ba2566441a7c06988d0923437866b63cedc61552a5af99d1f4fb67d367b25f"
  },
  "kernelspec": {
   "display_name": "Python 3.8.5 64-bit ('base': conda)",
   "name": "python3"
  },
  "language_info": {
   "codemirror_mode": {
    "name": "ipython",
    "version": 3
   },
   "file_extension": ".py",
   "mimetype": "text/x-python",
   "name": "python",
   "nbconvert_exporter": "python",
   "pygments_lexer": "ipython3",
   "version": "3.8.5"
  },
  "orig_nbformat": 4
 },
 "nbformat": 4,
 "nbformat_minor": 2
}