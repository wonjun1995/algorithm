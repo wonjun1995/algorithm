{
 "cells": [
  {
   "cell_type": "code",
   "execution_count": null,
   "metadata": {},
   "outputs": [],
   "source": [
    "def hanoi_tower(n, start, end) :\r\n",
    "    if n == 1 :\r\n",
    "        print(start, end)\r\n",
    "        return\r\n",
    "       \r\n",
    "    hanoi_tower(n-1, start, 6-start-end) # 1단계\r\n",
    "    print(start, end) # 2단계\r\n",
    "    hanoi_tower(n-1, 6-start-end, end) # 3단계\r\n",
    "    \r\n",
    "n = int(input())\r\n",
    "print(2**n-1)\r\n",
    "hanoi_tower(n, 1, 3)"
   ]
  },
  {
   "cell_type": "markdown",
   "metadata": {},
   "source": [
    "1단계: n-1개의 원판을 1번막대에서 2번 막대로 이동\r\n",
    "2단계: 남은 1개의 원판을 1번 막대에서 3번 막대로 이동\r\n",
    "3단계: n-1개의 원판을 2번막대에서 3번 막대로 이동"
   ]
  }
 ],
 "metadata": {
  "interpreter": {
   "hash": "b3ba2566441a7c06988d0923437866b63cedc61552a5af99d1f4fb67d367b25f"
  },
  "kernelspec": {
   "display_name": "Python 3.8.5 64-bit ('base': conda)",
   "name": "python3"
  },
  "language_info": {
   "name": "python",
   "version": ""
  },
  "orig_nbformat": 4
 },
 "nbformat": 4,
 "nbformat_minor": 2
}