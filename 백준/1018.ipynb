{
 "cells": [
  {
   "cell_type": "code",
   "execution_count": 12,
   "metadata": {},
   "outputs": [
    {
     "name": "stdout",
     "output_type": "stream",
     "text": [
      "1\n"
     ]
    }
   ],
   "source": [
    "m,n = map(int,input().split())\r\n",
    "arr=[]\r\n",
    "for _ in range(m):\r\n",
    "    arr.append(input())\r\n",
    "count=[]\r\n",
    "w_index=0\r\n",
    "b_index=0\r\n",
    "#행이 다르면 첫 돌도 색깔이 다름\r\n",
    "for i in range(m):\r\n",
    "    for j in range(n):\r\n",
    "        if (i+j)%2==0:\r\n",
    "            if arr[i][j] != 'W':\r\n",
    "                w_index+=1\r\n",
    "            if arr[i][j] != 'B':\r\n",
    "                b_index+=1\r\n",
    "        else:\r\n",
    "            if arr[i][j] != 'B':\r\n",
    "                w_index+=1\r\n",
    "            if arr[i][j] != 'W':\r\n",
    "                b_index+=1\r\n",
    "count.append(min(w_index,b_index))\r\n",
    "\r\n",
    "print(min(count))\r\n",
    "\r\n",
    "\r\n",
    "\r\n"
   ]
  },
  {
   "cell_type": "code",
   "execution_count": 13,
   "metadata": {},
   "outputs": [
    {
     "name": "stdout",
     "output_type": "stream",
     "text": [
      "12\n"
     ]
    }
   ],
   "source": [
    "#잘라서 정사각형 색깔 칠하는 경우\r\n",
    "m,n = map(int,input().split())\r\n",
    "arr=[]\r\n",
    "for _ in range(m):\r\n",
    "    arr.append(input())\r\n",
    "count=[]\r\n",
    "\r\n",
    "for a in range(m-7):\r\n",
    "    for b in range(n-7):\r\n",
    "        w_index=0\r\n",
    "        b_index=0\r\n",
    "        for i in range(a,a+8):\r\n",
    "            for j in range(b,b+8):\r\n",
    "                if (i+j)%2==0:\r\n",
    "                    if arr[i][j] != 'W':\r\n",
    "                        w_index+=1\r\n",
    "                    if arr[i][j] != 'B':\r\n",
    "                        b_index+=1\r\n",
    "                else:\r\n",
    "                    if arr[i][j] != 'B':\r\n",
    "                        w_index+=1\r\n",
    "                    if arr[i][j] != 'W':\r\n",
    "                        b_index+=1\r\n",
    "        count.append(min(w_index,b_index))\r\n",
    "\r\n",
    "print(min(count))\r\n",
    "\r\n",
    "\r\n",
    "\r\n"
   ]
  },
  {
   "cell_type": "code",
   "execution_count": 14,
   "metadata": {},
   "outputs": [],
   "source": [
    "cmd=int(input())"
   ]
  },
  {
   "cell_type": "code",
   "execution_count": 20,
   "metadata": {},
   "outputs": [
    {
     "name": "stdout",
     "output_type": "stream",
     "text": [
      "3058\n"
     ]
    }
   ],
   "source": [
    "n,money = map(int,input().split())\r\n",
    "\r\n",
    "for i in range(n):\r\n",
    "\t\tcmd=int(input())\r\n",
    "\t\tif cmd > 0:\r\n",
    "\t\t\tmoney += cmd\r\n",
    "\t\telif cmd <0:\r\n",
    "\t\t\tif (money + cmd) < 0:\r\n",
    "\t\t\t\tbreak\r\n",
    "\t\t\telse:\r\n",
    "\t\t\t\tmoney +=cmd\r\n",
    "\t\t\t\t\t\t\r\n",
    "print(money)"
   ]
  },
  {
   "cell_type": "code",
   "execution_count": null,
   "metadata": {},
   "outputs": [],
   "source": [
    "\r\n",
    "\r\n",
    "SELECT 문에서 0을 채우는 방법\r\n",
    "\r\n",
    "LEFT JOIN -> USER_ID가 비어 있으면 0으로 채우기\r\n",
    "\r\n",
    "SELECT USERS.USER_ID, COUNT(TRANSACTIONS.TRANSACTION_ID) as \"총 저축 횟수\", SUM(TRANSACTIONS.MONEY) as \"총 저축 금액 합계\"\r\n",
    "FROM USERS LEFT INNER JOIN TRANSACTIONS ON USERS.USER_ID = TRANSACTIONS.USER_ID\r\n",
    "WHERE TRANSACTIONS.DATE_TIME BETWEEN '2020-09-01' AND '2020-09-07'\r\n",
    "WHERE is null(VALUES(0))\r\n",
    "GROUP BY USERS.USER_ID \r\n",
    "ORDER BY USERS.USER_ID ASC\r\n"
   ]
  }
 ],
 "metadata": {
  "interpreter": {
   "hash": "b3ba2566441a7c06988d0923437866b63cedc61552a5af99d1f4fb67d367b25f"
  },
  "kernelspec": {
   "display_name": "Python 3.8.5 64-bit ('base': conda)",
   "name": "python3"
  },
  "language_info": {
   "codemirror_mode": {
    "name": "ipython",
    "version": 3
   },
   "file_extension": ".py",
   "mimetype": "text/x-python",
   "name": "python",
   "nbconvert_exporter": "python",
   "pygments_lexer": "ipython3",
   "version": "3.8.5"
  },
  "orig_nbformat": 4
 },
 "nbformat": 4,
 "nbformat_minor": 2
}